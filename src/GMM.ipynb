{
 "cells": [
  {
   "cell_type": "code",
   "execution_count": 1,
   "metadata": {},
   "outputs": [],
   "source": [
    "import numpy as np\n",
    "import matplotlib.pyplot as plt\n",
    "import random\n",
    "from numpy import genfromtxt\n",
    "from scipy.stats import multivariate_normal"
   ]
  },
  {
   "cell_type": "code",
   "execution_count": 2,
   "metadata": {},
   "outputs": [],
   "source": [
    "def get_data(path, delim):\n",
    "    return genfromtxt(path, delimiter=delim)"
   ]
  },
  {
   "cell_type": "code",
   "execution_count": 3,
   "metadata": {},
   "outputs": [],
   "source": [
    "## init of mixing proba, mean and cov\n",
    "def init_mixing_proba(k):    \n",
    "    return np.ones(k) / k\n",
    "\n",
    "def init_means(k, dim):\n",
    "    m = np.zeros([k, dim])\n",
    "    for i in range(k):\n",
    "        for j in range(dim):\n",
    "            k = random.randint(-20, 20)\n",
    "            t = random.randint(3, 8)\n",
    "            m[i][j] = k / t\n",
    "    return m\n",
    "\n",
    "def init_covs(k, dim):\n",
    "    covs = np.zeros([k, dim, dim])\n",
    "    for i in range(k):\n",
    "        ## init each cov\n",
    "        covs[i] = np.identity(dim)\n",
    "    return covs"
   ]
  },
  {
   "cell_type": "code",
   "execution_count": 4,
   "metadata": {},
   "outputs": [],
   "source": [
    "## E-step\n",
    "def expectation_step(datas, mixings, means, covs):\n",
    "    nbr_data, dim = datas.shape\n",
    "    nb_cluster = mixings.shape[0]\n",
    "    \n",
    "    ## proba for each data to belong to a specific cluster\n",
    "    expectation_matrix = np.zeros((nbr_data, nb_cluster))\n",
    "    \n",
    "    for i in range(nbr_data):\n",
    "        sum_ = 0\n",
    "        for k in range(nb_cluster):\n",
    "            sum_ += mixings[k] * multivariate_normal.pdf(datas[i], means[k], covs[k])\n",
    "        \n",
    "        for k in range(nb_cluster):\n",
    "            expectation_matrix[i][k] = mixings[k] * multivariate_normal.pdf(datas[i], means[k], covs[k]) / sum_\n",
    "    return expectation_matrix"
   ]
  },
  {
   "cell_type": "code",
   "execution_count": 5,
   "metadata": {},
   "outputs": [],
   "source": [
    "## M-step\n",
    "def maximization_step(datas, exp_mat):\n",
    "    nbr_data, dim = datas.shape\n",
    "    nb_cluster = exp_mat.shape[1]\n",
    "    \n",
    "    new_mixings = np.zeros([nb_cluster])\n",
    "    new_means = np.zeros([nb_cluster, dim])\n",
    "    new_covs = np.zeros([nb_cluster, dim, dim])\n",
    "    \n",
    "    m_k_vect = np.sum(exp_mat, 0)\n",
    "    for k in range(nb_cluster):\n",
    "        m_k = np.sum(exp_mat, 0)[k]\n",
    "\n",
    "        ## update mixings proba\n",
    "        new_mixings[k] = m_k / nbr_data\n",
    "        \n",
    "        ## update means\n",
    "        for i in range(nbr_data):\n",
    "            new_means[k] += exp_mat[i][k] * datas[i]\n",
    "        new_means[k] /= m_k\n",
    "        \n",
    "        ## update covs\n",
    "        for i in range(nbr_data):\n",
    "            diff = datas[i] - new_means[k]\n",
    "            diff_l = np.reshape(diff, (dim, 1))\n",
    "            diff_r = np.reshape(diff, (1, dim))\n",
    "            new_covs[k] += exp_mat[i][k] * np.dot(diff_l, diff_r)\n",
    "        new_covs[k] /= m_k\n",
    "    return new_mixings, new_means, new_covs"
   ]
  },
  {
   "cell_type": "code",
   "execution_count": 6,
   "metadata": {},
   "outputs": [],
   "source": [
    "datas = get_data(\"./data/datas.csv\", ',')"
   ]
  },
  {
   "cell_type": "code",
   "execution_count": 7,
   "metadata": {},
   "outputs": [],
   "source": [
    "nb_cluster = 4\n",
    "dim = datas.shape[1]\n",
    "nb_data = datas.shape[0]\n",
    "nb_it = 30\n",
    "\n",
    "mixing_proba = init_mixing_proba(nb_cluster)\n",
    "means = np.zeros([nb_cluster, dim])\n",
    "means[0] = [1, 0]\n",
    "means[1] = [0, 1]\n",
    "means[2] = [0, 0]\n",
    "means[3] = [1, 1]\n",
    "#means = init_means(nb_cluster, dim)\n",
    "covs = init_covs(nb_cluster, dim)"
   ]
  },
  {
   "cell_type": "code",
   "execution_count": 8,
   "metadata": {
    "scrolled": false
   },
   "outputs": [
    {
     "name": "stdout",
     "output_type": "stream",
     "text": [
      "Nb it: 1\n",
      "Nb it: 2\n",
      "Nb it: 3\n",
      "Nb it: 4\n",
      "Nb it: 5\n",
      "Nb it: 6\n",
      "Nb it: 7\n",
      "Nb it: 8\n",
      "Nb it: 9\n",
      "Nb it: 10\n",
      "Nb it: 11\n",
      "Nb it: 12\n",
      "Nb it: 13\n",
      "Nb it: 14\n",
      "Nb it: 15\n",
      "Nb it: 16\n",
      "Nb it: 17\n",
      "Nb it: 18\n",
      "Nb it: 19\n",
      "Nb it: 20\n",
      "Nb it: 21\n",
      "Nb it: 22\n",
      "Nb it: 23\n",
      "Nb it: 24\n",
      "Nb it: 25\n",
      "Nb it: 26\n",
      "Nb it: 27\n",
      "Nb it: 28\n",
      "Nb it: 29\n",
      "Nb it: 30\n"
     ]
    }
   ],
   "source": [
    "for i in range(nb_it):\n",
    "    print(\"Nb it: {}\".format(i + 1))\n",
    "    \n",
    "    ## expectation step\n",
    "    exp_mat = expectation_step(datas, mixing_proba, means, covs)\n",
    "    \n",
    "    ## maximization step\n",
    "    mixing_proba, means, covs = maximization_step(datas, exp_mat)"
   ]
  },
  {
   "cell_type": "code",
   "execution_count": 9,
   "metadata": {},
   "outputs": [],
   "source": [
    "data_expectation = expectation_step(datas, mixing_proba, means, covs)"
   ]
  },
  {
   "cell_type": "code",
   "execution_count": 10,
   "metadata": {},
   "outputs": [
    {
     "data": {
      "text/plain": [
       "array([[5.41261799e-25, 9.78941952e-01, 7.74097433e-03, 1.33170739e-02],\n",
       "       [1.00000000e+00, 5.97660752e-61, 6.40735827e-15, 4.65427996e-17],\n",
       "       [2.38901185e-20, 9.54231297e-01, 3.19318551e-02, 1.38368481e-02],\n",
       "       ...,\n",
       "       [1.70965349e-23, 1.01190528e-04, 9.07874010e-01, 9.20247994e-02],\n",
       "       [9.70416689e-25, 9.88392053e-01, 5.98389849e-03, 5.62404875e-03],\n",
       "       [4.20724474e-18, 9.74698752e-01, 2.23910496e-02, 2.91019798e-03]])"
      ]
     },
     "execution_count": 10,
     "metadata": {},
     "output_type": "execute_result"
    }
   ],
   "source": [
    "data_expectation"
   ]
  },
  {
   "cell_type": "code",
   "execution_count": 11,
   "metadata": {},
   "outputs": [],
   "source": [
    "cluster1_x = []\n",
    "cluster2_x = []\n",
    "cluster3_x = []\n",
    "cluster4_x = []\n",
    "\n",
    "cluster1_y = []\n",
    "cluster2_y = []\n",
    "cluster3_y = []\n",
    "cluster4_y = []\n",
    "\n",
    "for i in range(nb_data):\n",
    "    m = 0\n",
    "    for j in range(1, nb_cluster):\n",
    "        if data_expectation[i][j] > data_expectation[i][m]:\n",
    "            m = j\n",
    "    if m == 0:\n",
    "        cluster1_x.append(datas[i][0])\n",
    "        cluster1_y.append(datas[i][1])\n",
    "    elif m == 1:\n",
    "        cluster2_x.append(datas[i][0])\n",
    "        cluster2_y.append(datas[i][1])\n",
    "    elif m == 2:\n",
    "        cluster3_x.append(datas[i][0])\n",
    "        cluster3_y.append(datas[i][1])\n",
    "    else:\n",
    "        cluster4_x.append(datas[i][0])\n",
    "        cluster4_y.append(datas[i][1])\n",
    "        "
   ]
  },
  {
   "cell_type": "code",
   "execution_count": 12,
   "metadata": {},
   "outputs": [],
   "source": [
    "colors = ['blue', 'red', 'green', 'pink']"
   ]
  },
  {
   "cell_type": "code",
   "execution_count": 14,
   "metadata": {},
   "outputs": [
    {
     "data": {
      "image/png": "[encoded data removed]",
      "text/plain": [
       "<Figure size 432x288 with 1 Axes>"
      ]
     },
     "metadata": {
      "needs_background": "light"
     },
     "output_type": "display_data"
    }
   ],
   "source": [
    "plt.scatter(cluster1_x, cluster1_y, marker='.', color='red')\n",
    "plt.scatter(cluster2_x, cluster2_y, marker='.', color='green')\n",
    "plt.scatter(cluster3_x, cluster3_y, marker='.', color='blue')\n",
    "plt.scatter(cluster4_x, cluster4_y, marker='.', color='yellow')\n",
    "plt.title('GMM clustering example')\n",
    "plt.xlabel('Feature 1')\n",
    "plt.ylabel('Feature 2')\n",
    "plt.savefig('gmm_results_example.png')\n",
    "plt.show()"
   ]
  },
  {
   "cell_type": "code",
   "execution_count": null,
   "metadata": {},
   "outputs": [],
   "source": []
  }
 ],
 "metadata": {
  "kernelspec": {
   "display_name": "Python 3",
   "language": "python",
   "name": "python3"
  },
  "language_info": {
   "codemirror_mode": {
    "name": "ipython",
    "version": 3
   },
   "file_extension": ".py",
   "mimetype": "text/x-python",
   "name": "python",
   "nbconvert_exporter": "python",
   "pygments_lexer": "ipython3",
   "version": "3.8.3"
  }
 },
 "nbformat": 4,
 "nbformat_minor": 2
}
